{
  "import": {},
  "from": false,
  "url": "\"https://www.ktm.com/en-ie/models/naked-bike/2024-ktm-1390-superdukerevo.html\"",
  "response": "requests.get(url)",
  "soup": "BeautifulSoup(response.content,'html.parser')",
  "name": "soup.find('h1',class_=\"models__heading\")",
  "model": "name[:4]",
  "description": "soup.find('div',class_=\"models__description models__description--desktop-only\")",
  "images_": "soup.findAll('img',class_=\"models__slide-image\")",
  "images": [
    "[]"
  ],
  "for": {
    "images.append(image": {}
  },
  "tech_details": "soup.find('article',class_=\"c-technical-data__group\")",
  "engine": "tech_details.h2.text",
  "other_details": "tech_details.ul",
  "print(name)": {},
  "print(model)": {},
  "print(description)": {},
  "print(images)": {},
  "l": [
    "[1",
    "0",
    "2",
    "0",
    "\"hello\"",
    "\"\"",
    "[]]"
  ],
  "list(filter(bool,l))": {}
}
