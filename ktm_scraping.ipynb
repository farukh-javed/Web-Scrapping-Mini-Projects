import requests
from bs4 import BeautifulSoup

url = "https://www.ktm.com/en-ie/models/naked-bike/2024-ktm-1390-superdukerevo.html"
response = requests.get(url)
response

soup = BeautifulSoup(response.content,'html.parser')

name = soup.find('h1',class_="models__heading")
name = name.text.strip()
model = name[:4]
name = name[5:]

description = soup.find('div',class_="models__description models__description--desktop-only")
description = description.text.strip()

images_ = soup.findAll('img',class_="models__slide-image")
images = []
for image in images_:
  images.append(image['src'])

tech_details = soup.find('article',class_="c-technical-data__group")
engine = tech_details.h2.text
other_details = tech_details.ul

print(name)
print(model)
print(description)
print(images)
