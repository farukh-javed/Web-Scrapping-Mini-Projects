{
 "cells": [
  {
   "cell_type": "code",
   "execution_count": null,
   "id": "5fa4a362",
   "metadata": {},
   "outputs": [],
   "source": [
    "import requests\n",
    "from bs4 import BeautifulSoup"
   ]
  },
  {
   "cell_type": "code",
   "execution_count": null,
   "id": "c0e85b07",
   "metadata": {},
   "outputs": [],
   "source": [
    "url = \"https://www.ktm.com/en-ie/models/naked-bike/2024-ktm-1390-superdukerevo.html\"\n",
    "response = requests.get(url)\n",
    "response"
   ]
  },
  {
   "cell_type": "code",
   "execution_count": null,
   "id": "31fcd5c3",
   "metadata": {},
   "outputs": [],
   "source": [
    "soup = BeautifulSoup(response.content,'html.parser')"
   ]
  },
  {
   "cell_type": "code",
   "execution_count": null,
   "id": "5e8059f1",
   "metadata": {},
   "outputs": [],
   "source": [
    "name = soup.find('h1', class_=\"models__heading\")\n",
    "name = name.text.strip()\n",
    "model = name[:4]\n",
    "name = name[5:]"
   ]
  },
  {
   "cell_type": "code",
   "execution_count": null,
   "id": "17d1b80c",
   "metadata": {},
   "outputs": [],
   "source": [
    "description = soup.find('div', class_=\"models__description models__description--desktop-only\")\n",
    "description = description.text.strip()"
   ]
  },
  {
   "cell_type": "code",
   "execution_count": null,
   "id": "238dab8b",
   "metadata": {},
   "outputs": [],
   "source": [
    "images_ = soup.findAll('img', class_=\"models__slide-image\")\n",
    "images = []\n",
    "for image in images_:\n",
    "  images.append(image['src'])"
   ]
  },
  {
   "cell_type": "code",
   "execution_count": null,
   "id": "bd7397b8",
   "metadata": {},
   "outputs": [],
   "source": [
    "tech_details = soup.find('article', class_=\"c-technical-data__group\")\n",
    "engine = tech_details.h2.text\n",
    "other_details = tech_details.ul"
   ]
  },
  {
   "cell_type": "code",
   "execution_count": null,
   "id": "54a68cd7",
   "metadata": {},
   "outputs": [],
   "source": [
    "print(name)\n",
    "print(model)\n",
    "print(description)\n",
    "print(images)"
   ]
  }
 ],
 "metadata": {
  "kernelspec": {
   "display_name": "Python 3",
   "language": "python",
   "name": "python3"
  },
  "language_info": {
   "codemirror_mode": {
    "name": "ipython",
    "version": 3
   },
   "file_extension": ".py",
   "mimetype": "text/x-python",
   "name": "python",
   "nbconvert_exporter": "python",
   "version": "3.8.5"
  }
 },
 "nbformat": 4,
 "nbformat_minor": 5
}
