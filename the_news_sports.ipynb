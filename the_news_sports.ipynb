{
 "cells": [
  {
   "cell_type": "code",
   "execution_count": null,
   "metadata": {},
   "outputs": [],
   "source": [
    "import requests\n",
    "from bs4 import BeautifulSoup\n",
    "import json"
   ]
  },
  {
   "cell_type": "code",
   "execution_count": null,
   "metadata": {},
   "outputs": [],
   "source": [
    "url = \"https://www.thenews.com.pk/latest/category/sports\"\n",
    "response = requests.get(url)"
   ]
  },
  {
   "cell_type": "code",
   "execution_count": null,
   "metadata": {},
   "outputs": [],
   "source": [
    "soup = BeautifulSoup(response.content, 'html.parser')\n",
    "\n",
    "articles_list = soup.find_all('li')"
   ]
  },
  {
   "cell_type": "code",
   "execution_count": null,
   "metadata": {},
   "outputs": [],
   "source": [
    "news_data = []\n",
    "\n",
    "for article in articles_list:\n",
    "    news_item = {}\n",
    "\n",
    "    headline_tag = article.find('h2')\n",
    "    if headline_tag and headline_tag.a:\n",
    "        news_item['headline'] = headline_tag.a.get_text(strip=True)\n",
    "        link = headline_tag.a['href']\n",
    "    else:\n",
    "        continue\n",
    "\n",
    "    description_tag = article.find('p')\n",
    "    news_item['description'] = description_tag.get_text(strip=True) if description_tag else 'No description available'\n",
    "\n",
    "    image_tag = article.find('a', class_='open-section latest-page-img')\n",
    "    if image_tag and image_tag.img:\n",
    "        news_item['image'] = image_tag.img['src']\n",
    "    else:\n",
    "        news_item['image'] = 'No image available'\n",
    "\n",
    "    response1 = requests.get(link)\n",
    "    soup1 = BeautifulSoup(response1.content, 'html5lib')\n",
    "\n",
    "    content = soup1.find_all('p')\n",
    "    full_text = \"\\n\".join([para.get_text(strip=True) for para in content])\n",
    "    news_item['full_text'] = full_text if full_text else 'No content available'\n",
    "\n",
    "    news_data.append(news_item)\n"
   ]
  },
  {
   "cell_type": "code",
   "execution_count": null,
   "metadata": {},
   "outputs": [],
   "source": [
    "with open('the_news_sports.json', 'w+') as json_file:\n",
    "    json.dump(news_data, json_file, indent=4)\n",
    "\n",
    "print(\"Scraping complete. Data saved to 'the_news_sports.json'.\")"
   ]
  }
 ],
 "metadata": {
  "kernelspec": {
   "display_name": "Python 3",
   "language": "python",
   "name": "python3"
  },
  "language_info": {
   "name": "python",
   "version": "3.11.5"
  }
 },
 "nbformat": 4,
 "nbformat_minor": 2
}
